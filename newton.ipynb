{
 "cells": [
  {
   "cell_type": "code",
   "execution_count": 1,
   "metadata": {},
   "outputs": [],
   "source": [
    "import math"
   ]
  },
  {
   "cell_type": "code",
   "execution_count": 2,
   "metadata": {},
   "outputs": [
    {
     "name": "stdout",
     "output_type": "stream",
     "text": [
      "1.3890560989306495\n"
     ]
    }
   ],
   "source": [
    "x = 2\n",
    "print(((math.e)**x)-(3*x))"
   ]
  },
  {
   "cell_type": "code",
   "execution_count": 29,
   "metadata": {},
   "outputs": [
    {
     "name": "stdout",
     "output_type": "stream",
     "text": [
      "X0= 0.00000000         fc0=  1.00000000\n",
      "X1= 0.50000000         fc1=  0.14872127\n",
      "X2= 0.61005965         fc2=  0.01036223\n",
      "X3= 0.61899678         fc3=  0.00007372\n",
      "X4= 0.61906128         fc4=  0.00000000\n"
     ]
    }
   ],
   "source": [
    "x = [0]\n",
    "fc1 = []\n",
    "max_iterations = 100\n",
    "for i in range(max_iterations):\n",
    "        C = x[i]-((((math.e)**x[i])-(3*x[i]))/((math.e)**x[i]-3))\n",
    "        x.append(C)\n",
    "        fc = ((math.e)**x[i])-(3*x[i])\n",
    "        fc1.append(fc)\n",
    "        \n",
    "        print('X%d= %.8f'%(i,x[i]) ,'        fc%d=  %.8f'%(i,fc))\n",
    "       \n",
    "        if abs(fc1[i]-0) < 10**-8:\n",
    "            break"
   ]
  },
  {
   "cell_type": "code",
   "execution_count": 37,
   "metadata": {},
   "outputs": [
    {
     "name": "stdout",
     "output_type": "stream",
     "text": [
      "X0= 0.00000000                 fc0=  0.93011702\n",
      "X1= 2.53256190                 fc1=  -0.97298598\n",
      "X2= -1.68197638                 fc2=  0.26179821\n",
      "X3= -1.95323539                 fc3=  -0.00637404\n",
      "X4= -1.94686122                 fc4=  0.00000009\n",
      "X5= -1.94686131                 fc5=  -0.00000000\n"
     ]
    }
   ],
   "source": [
    "x = [0]\n",
    "fc1 = []\n",
    "max_iterations = 100\n",
    "for i in range(max_iterations):\n",
    "        C = x[i]-(((math.sin(485-x[i]))/-(math.cos(485-x[i]))))\n",
    "        x.append(C)\n",
    "        fc = (math.sin(485-x[i]))\n",
    "        fc1.append(fc)\n",
    "        \n",
    "        print('X%d= %.8f'%(i,x[i]) ,'                fc%d=  %.8f'%(i,fc))\n",
    "       \n",
    "        if abs(fc1[i]-0) < 10**-8:\n",
    "            break"
   ]
  },
  {
   "cell_type": "code",
   "execution_count": null,
   "metadata": {},
   "outputs": [],
   "source": []
  }
 ],
 "metadata": {
  "kernelspec": {
   "display_name": "Python 3",
   "language": "python",
   "name": "python3"
  },
  "language_info": {
   "codemirror_mode": {
    "name": "ipython",
    "version": 3
   },
   "file_extension": ".py",
   "mimetype": "text/x-python",
   "name": "python",
   "nbconvert_exporter": "python",
   "pygments_lexer": "ipython3",
   "version": "3.8.3"
  }
 },
 "nbformat": 4,
 "nbformat_minor": 4
}
